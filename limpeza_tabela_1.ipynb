{
  "nbformat": 4,
  "nbformat_minor": 0,
  "metadata": {
    "colab": {
      "provenance": [],
      "mount_file_id": "1D6EWGTZjY08paLFBFMQiOzWU5z5Zdnu0",
      "authorship_tag": "ABX9TyOAZ3TcmQg95KdSQg/l44zK",
      "include_colab_link": true
    },
    "kernelspec": {
      "name": "python3",
      "display_name": "Python 3"
    },
    "language_info": {
      "name": "python"
    }
  },
  "cells": [
    {
      "cell_type": "markdown",
      "metadata": {
        "id": "view-in-github",
        "colab_type": "text"
      },
      "source": [
        "<a href=\"https://colab.research.google.com/github/AndreLobo1/pond_mat_2/blob/main/limpeza_tabela_1.ipynb\" target=\"_parent\"><img src=\"https://colab.research.google.com/assets/colab-badge.svg\" alt=\"Open In Colab\"/></a>"
      ]
    },
    {
      "cell_type": "markdown",
      "source": [
        "Carregar a biblioteca pandas"
      ],
      "metadata": {
        "id": "qBpkAeDOMTL2"
      }
    },
    {
      "cell_type": "code",
      "source": [
        "import pandas as pd"
      ],
      "metadata": {
        "id": "V-Saj-V2MY4r"
      },
      "execution_count": 1,
      "outputs": []
    },
    {
      "cell_type": "markdown",
      "source": [
        "Importa o arquivo"
      ],
      "metadata": {
        "id": "bXHbgIfQzNp-"
      }
    },
    {
      "cell_type": "code",
      "source": [
        "file_path = '/content/drive/MyDrive/AUDIENCIA_07_08_2024_COMPLETA.csv'\n",
        "df = pd.read_csv(file_path)"
      ],
      "metadata": {
        "id": "aCesWbXiMekG"
      },
      "execution_count": 2,
      "outputs": []
    },
    {
      "cell_type": "markdown",
      "source": [
        "Verificação de missing values: Não foram encontrados missing values na tabela, portanto, não é necessário realizar nenhum tratamento adicional.\n",
        "\n",
        "\n",
        "\n",
        "\n",
        "\n",
        "\n"
      ],
      "metadata": {
        "id": "Lz3PHnVJyQAh"
      }
    },
    {
      "cell_type": "code",
      "source": [
        "missing_values = df.isnull().sum()\n",
        "print(\"Missing values por coluna:\")\n",
        "print(missing_values[missing_values > 0])"
      ],
      "metadata": {
        "colab": {
          "base_uri": "https://localhost:8080/"
        },
        "id": "kbfro68RyQPx",
        "outputId": "c5ec5db0-a3dc-4d28-ff4a-53801a761aff"
      },
      "execution_count": 3,
      "outputs": [
        {
          "output_type": "stream",
          "name": "stdout",
          "text": [
            "Missing values por coluna:\n",
            "Series([], dtype: int64)\n"
          ]
        }
      ]
    },
    {
      "cell_type": "markdown",
      "source": [
        "Criar um dicionário para mapear os meses em português para números\n"
      ],
      "metadata": {
        "id": "KG6SflWPMuzd"
      }
    },
    {
      "cell_type": "code",
      "source": [
        "meses = {\n",
        "    'jan.': 1, 'fev.': 2, 'mar.': 3, 'abr.': 4,\n",
        "    'mai.': 5, 'jun.': 6, 'jul.': 7, 'ago.': 8,\n",
        "    'set.': 9, 'out.': 10, 'nov.': 11, 'dez.': 12\n",
        "}"
      ],
      "metadata": {
        "id": "64_ol9H7MyVh"
      },
      "execution_count": 4,
      "outputs": []
    },
    {
      "cell_type": "markdown",
      "source": [
        "Separar a coluna \"PERIODO\" em \"ANO\" e \"MÊS\"*\n"
      ],
      "metadata": {
        "id": "7r2oKjvmM1Mj"
      }
    },
    {
      "cell_type": "code",
      "source": [
        "df['ANO'] = df['PERIODO'].apply(lambda x: '20' + x.split('-')[1])\n",
        "df['MÊS'] = df['PERIODO'].apply(lambda x: meses[x.split('-')[0]])"
      ],
      "metadata": {
        "id": "jyJwOMQHM672"
      },
      "execution_count": 5,
      "outputs": []
    },
    {
      "cell_type": "markdown",
      "source": [
        "Elimina a coluna 'PERIODO'"
      ],
      "metadata": {
        "id": "MYDgJNdg0ISJ"
      }
    },
    {
      "cell_type": "code",
      "source": [
        "df = df.drop(columns=['PERIODO'])"
      ],
      "metadata": {
        "id": "TU_hB7jJND6p"
      },
      "execution_count": 6,
      "outputs": []
    },
    {
      "cell_type": "markdown",
      "source": [
        "Reordenar as colunas para que \"ANO\" e \"MÊS\" sejam as primeiras"
      ],
      "metadata": {
        "id": "OeFEdBmOCBbW"
      }
    },
    {
      "cell_type": "code",
      "source": [
        "colunas = ['ANO', 'MÊS'] + [col for col in df.columns if col not in ['ANO', 'MÊS']]\n",
        "df = df[colunas]"
      ],
      "metadata": {
        "id": "UTd11sWKCBjI"
      },
      "execution_count": 8,
      "outputs": []
    },
    {
      "cell_type": "markdown",
      "source": [
        "Verificar tipos de dados das colunas e se existem colunas que precisam ser convertidas\n"
      ],
      "metadata": {
        "id": "RCQFW35S3Z3k"
      }
    },
    {
      "cell_type": "code",
      "source": [
        "print(\"Tipos de dados antes da conversão:\")\n",
        "print(df.dtypes)\n",
        "\n",
        "colunas_para_converter = df.select_dtypes(include=['object']).columns\n",
        "print(\"Colunas para converter para numérico:\", list(colunas_para_converter))"
      ],
      "metadata": {
        "colab": {
          "base_uri": "https://localhost:8080/"
        },
        "id": "F3TNGag53aUY",
        "outputId": "675e7b84-6f9e-468e-903f-0c5f0214a343"
      },
      "execution_count": 9,
      "outputs": [
        {
          "output_type": "stream",
          "name": "stdout",
          "text": [
            "Tipos de dados antes da conversão:\n",
            "ANO                   object\n",
            "MÊS                    int64\n",
            "TV GAZETA            float64\n",
            "GAZETA FM VITÓRIA    float64\n",
            "LITORAL FM           float64\n",
            "CBN VITORIA          float64\n",
            "RÁDIO MIX VITÓRIA    float64\n",
            "INTERNET              object\n",
            "PORTAL G1/GE/HOME     object\n",
            "dtype: object\n",
            "Colunas para converter para numérico: ['ANO', 'INTERNET', 'PORTAL G1/GE/HOME']\n"
          ]
        }
      ]
    },
    {
      "cell_type": "markdown",
      "source": [
        "Converter colunas 'INTERNET' e 'PORTAL G1/GE/HOME' para numérico: Função para remover separadores de milhar e converter para numérico\n"
      ],
      "metadata": {
        "id": "UZOnn-9mNGkd"
      }
    },
    {
      "cell_type": "code",
      "source": [
        "def converter_para_numerico(valor):\n",
        "    if isinstance(valor, str):\n",
        "        valor = valor.replace('.', '')\n",
        "        valor = valor.replace(',', '.')\n",
        "        return pd.to_numeric(valor, errors='coerce')\n",
        "    return valor"
      ],
      "metadata": {
        "id": "l3vgHljcNKdl"
      },
      "execution_count": 10,
      "outputs": []
    },
    {
      "cell_type": "markdown",
      "source": [
        "Aplicar a função de conversão nas colunas \"INTERNET\" e \"PORTAL G1/GE/HOME\"\n"
      ],
      "metadata": {
        "id": "784Hou_yNOyh"
      }
    },
    {
      "cell_type": "code",
      "source": [
        "df['INTERNET'] = df['INTERNET'].apply(converter_para_numerico)\n",
        "df['PORTAL G1/GE/HOME'] = df['PORTAL G1/GE/HOME'].apply(converter_para_numerico)"
      ],
      "metadata": {
        "id": "K1UwKya1NUtg"
      },
      "execution_count": 11,
      "outputs": []
    },
    {
      "cell_type": "markdown",
      "source": [
        "Converter a coluna \"ANO\" para numérico"
      ],
      "metadata": {
        "id": "TlxeOHqyNVwk"
      }
    },
    {
      "cell_type": "code",
      "source": [
        "df['ANO'] = pd.to_numeric(df['ANO'], errors='coerce')"
      ],
      "metadata": {
        "id": "nHp2ePtnNbr0"
      },
      "execution_count": 12,
      "outputs": []
    },
    {
      "cell_type": "markdown",
      "source": [
        "Identificar colunas categóricas e numéricas"
      ],
      "metadata": {
        "id": "1cAnXLY3Ndu0"
      }
    },
    {
      "cell_type": "code",
      "source": [
        "colunas_categoricas = df.select_dtypes(include='object').columns\n",
        "colunas_numericas = df.drop(colunas_categoricas, axis=1).columns\n",
        "\n",
        "print(f'Há {len(colunas_categoricas)} Colunas Categóricas: {list(colunas_categoricas)}')\n",
        "print(f'Há {len(colunas_numericas)} Colunas Numéricas: {list(colunas_numericas)}')\n"
      ],
      "metadata": {
        "colab": {
          "base_uri": "https://localhost:8080/"
        },
        "id": "q_YnPX0INg_1",
        "outputId": "5f9f8d73-d43b-400e-a41a-00dafc0cf6ef"
      },
      "execution_count": 13,
      "outputs": [
        {
          "output_type": "stream",
          "name": "stdout",
          "text": [
            "Há 0 Colunas Categóricas: []\n",
            "Há 9 Colunas Numéricas: ['ANO', 'MÊS', 'TV GAZETA  ', 'GAZETA FM VITÓRIA', 'LITORAL FM', 'CBN VITORIA', 'RÁDIO MIX VITÓRIA', 'INTERNET', 'PORTAL G1/GE/HOME']\n"
          ]
        }
      ]
    },
    {
      "cell_type": "markdown",
      "source": [
        "Identificar outliers: Os outliers identificados estão corretos, não sendo necessário nenhum tratamento adicional"
      ],
      "metadata": {
        "id": "uE08ilotglrj"
      }
    },
    {
      "cell_type": "code",
      "source": [
        "Q1 = df[colunas_numericas].quantile(0.25)\n",
        "Q3 = df[colunas_numericas].quantile(0.75)\n",
        "IQR = Q3 - Q1\n",
        "\n",
        "outliers = ((df[colunas_numericas] < (Q1 - 1.5 * IQR)) | (df[colunas_numericas] > (Q3 + 1.5 * IQR)))\n",
        "\n",
        "outlier_counts = outliers.sum()\n",
        "print(\"Outliers por coluna:\")\n",
        "print(outlier_counts[outlier_counts > 0])\n",
        "\n",
        "for coluna in outlier_counts[outlier_counts > 0].index:\n",
        "    print(f\"\\nOutliers na coluna '{coluna}':\")\n",
        "    print(df.loc[outliers[coluna], coluna])"
      ],
      "metadata": {
        "colab": {
          "base_uri": "https://localhost:8080/"
        },
        "id": "MsMpVWt8gl84",
        "outputId": "2ae920eb-e629-4c03-bfd9-48d3339b4660"
      },
      "execution_count": 14,
      "outputs": [
        {
          "output_type": "stream",
          "name": "stdout",
          "text": [
            "Outliers por coluna:\n",
            "GAZETA FM VITÓRIA    4\n",
            "INTERNET             1\n",
            "PORTAL G1/GE/HOME    4\n",
            "dtype: int64\n",
            "\n",
            "Outliers na coluna 'GAZETA FM VITÓRIA':\n",
            "4     8.150\n",
            "22    7.725\n",
            "51    7.290\n",
            "53    7.106\n",
            "Name: GAZETA FM VITÓRIA, dtype: float64\n",
            "\n",
            "Outliers na coluna 'INTERNET':\n",
            "14    10676124\n",
            "Name: INTERNET, dtype: int64\n",
            "\n",
            "Outliers na coluna 'PORTAL G1/GE/HOME':\n",
            "7     4005140\n",
            "12    4115374\n",
            "15    4646147\n",
            "34    5030097\n",
            "Name: PORTAL G1/GE/HOME, dtype: int64\n"
          ]
        }
      ]
    },
    {
      "cell_type": "markdown",
      "source": [
        "Arredondar os valores numéricos para 3 casas decimais\n"
      ],
      "metadata": {
        "id": "4pufeYLDNhvX"
      }
    },
    {
      "cell_type": "code",
      "source": [
        "df[colunas_numericas] = df[colunas_numericas].round(3)"
      ],
      "metadata": {
        "id": "-JJASooSfQ4w"
      },
      "execution_count": 15,
      "outputs": []
    },
    {
      "cell_type": "markdown",
      "source": [
        "Exibir as primeiras linhas para verificar a limpeza"
      ],
      "metadata": {
        "id": "48SKy63KN0eC"
      }
    },
    {
      "cell_type": "code",
      "source": [
        "print(\"Primeiras linhas após a reordenação das colunas:\")\n",
        "print(df.head())"
      ],
      "metadata": {
        "colab": {
          "base_uri": "https://localhost:8080/"
        },
        "id": "bPpFlOGuN5S5",
        "outputId": "202944cb-5d72-43a8-b05f-b5e13c6eee25"
      },
      "execution_count": 16,
      "outputs": [
        {
          "output_type": "stream",
          "name": "stdout",
          "text": [
            "Primeiras linhas após a reordenação das colunas:\n",
            "    ANO  MÊS  TV GAZETA    GAZETA FM VITÓRIA  LITORAL FM  CBN VITORIA  \\\n",
            "0  2020    1      769.843              4.838      18.014        7.144   \n",
            "1  2020    2      744.739              3.378      18.057        5.576   \n",
            "2  2020    3      798.373              5.845      22.609        6.969   \n",
            "3  2020    4      775.029              6.584      23.975        6.532   \n",
            "4  2020    5      752.017              8.150      23.355        6.290   \n",
            "\n",
            "   RÁDIO MIX VITÓRIA  INTERNET  PORTAL G1/GE/HOME  \n",
            "0              1.840   3727780            2372384  \n",
            "1              1.591   4407044            1496569  \n",
            "2              2.681   8020768            1787890  \n",
            "3              3.271   6837563            1711619  \n",
            "4              2.569   5883559            2010560  \n"
          ]
        }
      ]
    },
    {
      "cell_type": "code",
      "source": [],
      "metadata": {
        "id": "d-16jk9FyJF-"
      },
      "execution_count": 47,
      "outputs": []
    }
  ]
}